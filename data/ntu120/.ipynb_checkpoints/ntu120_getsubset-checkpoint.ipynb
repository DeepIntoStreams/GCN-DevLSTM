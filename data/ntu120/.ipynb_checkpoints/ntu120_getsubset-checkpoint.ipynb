{
 "cells": [
  {
   "cell_type": "code",
   "execution_count": 21,
   "id": "45e1eb23",
   "metadata": {},
   "outputs": [],
   "source": [
    "import numpy as np\n",
    "import random"
   ]
  },
  {
   "cell_type": "code",
   "execution_count": 5,
   "id": "1bff6425",
   "metadata": {},
   "outputs": [],
   "source": [
    "data_path = './NTU120_CSub.npz'\n",
    "npz_data = np.load(data_path)"
   ]
  },
  {
   "cell_type": "code",
   "execution_count": 7,
   "id": "26854a7e",
   "metadata": {},
   "outputs": [],
   "source": [
    "data = npz_data['x_train']\n",
    "label = np.where(npz_data['y_train'] > 0)[1]"
   ]
  },
  {
   "cell_type": "code",
   "execution_count": 9,
   "id": "e4e3bd22",
   "metadata": {},
   "outputs": [
    {
     "data": {
      "text/plain": [
       "(63026, 300, 150)"
      ]
     },
     "execution_count": 9,
     "metadata": {},
     "output_type": "execute_result"
    }
   ],
   "source": [
    "data.shape"
   ]
  },
  {
   "cell_type": "code",
   "execution_count": 10,
   "id": "cddf01b8",
   "metadata": {},
   "outputs": [
    {
     "data": {
      "text/plain": [
       "(63026,)"
      ]
     },
     "execution_count": 10,
     "metadata": {},
     "output_type": "execute_result"
    }
   ],
   "source": [
    "label.shape"
   ]
  },
  {
   "cell_type": "code",
   "execution_count": 12,
   "id": "cad36b60",
   "metadata": {},
   "outputs": [
    {
     "data": {
      "text/plain": [
       "(50919, 300, 150)"
      ]
     },
     "execution_count": 12,
     "metadata": {},
     "output_type": "execute_result"
    }
   ],
   "source": [
    "npz_data['x_test'].shape"
   ]
  },
  {
   "cell_type": "code",
   "execution_count": 17,
   "id": "aa644157",
   "metadata": {},
   "outputs": [
    {
     "data": {
      "text/plain": [
       "(666,)"
      ]
     },
     "execution_count": 17,
     "metadata": {},
     "output_type": "execute_result"
    }
   ],
   "source": [
    "np.where(label==0)[0].shape"
   ]
  },
  {
   "cell_type": "code",
   "execution_count": 19,
   "id": "deade781",
   "metadata": {},
   "outputs": [
    {
     "data": {
      "text/plain": [
       "(384, 300, 150)"
      ]
     },
     "execution_count": 19,
     "metadata": {},
     "output_type": "execute_result"
    }
   ],
   "source": [
    "data[np.where(label==119)].shape"
   ]
  },
  {
   "cell_type": "code",
   "execution_count": 42,
   "id": "725aad1e",
   "metadata": {},
   "outputs": [],
   "source": [
    "def one_hot_vector(labels):\n",
    "    num_skes = len(labels)\n",
    "    labels_vector = np.zeros((num_skes, 120))\n",
    "    for idx, l in enumerate(labels):\n",
    "        labels_vector[idx, l] = 1\n",
    "\n",
    "    return labels_vector"
   ]
  },
  {
   "cell_type": "code",
   "execution_count": 43,
   "id": "9a91128d",
   "metadata": {},
   "outputs": [],
   "source": [
    "data_path = './NTU120_CSub.npz'\n",
    "npz_data = np.load(data_path)\n",
    "new_npz_data = {}\n",
    "for phase in ['train', 'test']:\n",
    "    if phase == 'train':\n",
    "        data = npz_data['x_train']\n",
    "        label = np.where(npz_data['y_train'] > 0)[1]\n",
    "    else:\n",
    "        data = npz_data['x_test']\n",
    "        label = np.where(npz_data['y_test'] > 0)[1]\n",
    "    \n",
    "    new_sample = []\n",
    "    new_sample_label = []\n",
    "    act_cls = 120\n",
    "    for act in range(act_cls):\n",
    "        ind_act = np.where(label==act)[0]\n",
    "        act_num = len(ind_act)\n",
    "        sample_num = int(act_num * 0.3)\n",
    "        select_num = random.sample(range(act_num), sample_num)\n",
    "        #if act==0:\n",
    "        new_sample.extend(data[ind_act[select_num]])\n",
    "        new_sample_label.extend([act]*sample_num)\n",
    "    new_npz_data['x_%s'%(phase)] = np.array(new_sample)\n",
    "    new_npz_data['y_%s'%phase] = one_hot_vector(new_sample_label)\n",
    "np.save('NTU120_CSub_subset.npz',x_train=new_npz_data['x_train'], y_train=new_npz_data['y_train'], \\\n",
    "        x_test=new_npz_data['x_test'], y_test=new_npz_data['y_test'])"
   ]
  },
  {
   "cell_type": "code",
   "execution_count": 37,
   "id": "7c7a508f",
   "metadata": {},
   "outputs": [
    {
     "data": {
      "text/plain": [
       "(18851, 300, 150)"
      ]
     },
     "execution_count": 37,
     "metadata": {},
     "output_type": "execute_result"
    }
   ],
   "source": [
    "np.array(new_sample).shape"
   ]
  },
  {
   "cell_type": "code",
   "execution_count": 1,
   "id": "cdaa8ce0",
   "metadata": {},
   "outputs": [],
   "source": [
    "import numpy as np\n",
    "x = np.load('NTU120_CSub_subset.npz')"
   ]
  },
  {
   "cell_type": "code",
   "execution_count": 2,
   "id": "4293a6ab",
   "metadata": {},
   "outputs": [
    {
     "data": {
      "text/plain": [
       "'y_test'"
      ]
     },
     "execution_count": 2,
     "metadata": {},
     "output_type": "execute_result"
    }
   ],
   "source": [
    "phase = 'test'\n",
    "'y_%s'%phase"
   ]
  },
  {
   "cell_type": "code",
   "execution_count": 3,
   "id": "5928e3c8",
   "metadata": {},
   "outputs": [
    {
     "data": {
      "text/plain": [
       "{'y_test': 1, 'x_test': 22}"
      ]
     },
     "execution_count": 3,
     "metadata": {},
     "output_type": "execute_result"
    }
   ],
   "source": [
    "new_npz_data = {}\n",
    "new_npz_data['y_%s'%phase] = 1\n",
    "new_npz_data['x_%s'%phase] = 22\n",
    "new_npz_data"
   ]
  },
  {
   "cell_type": "code",
   "execution_count": 7,
   "id": "e03ddbe7",
   "metadata": {},
   "outputs": [
    {
     "name": "stdout",
     "output_type": "stream",
     "text": [
      "arr_0\n"
     ]
    },
    {
     "data": {
      "text/plain": [
       "[None]"
      ]
     },
     "execution_count": 7,
     "metadata": {},
     "output_type": "execute_result"
    }
   ],
   "source": [
    "[print(i) for i in x]"
   ]
  },
  {
   "cell_type": "code",
   "execution_count": null,
   "id": "967a7a9b",
   "metadata": {},
   "outputs": [],
   "source": []
  }
 ],
 "metadata": {
  "kernelspec": {
   "display_name": "Python 3 (ipykernel)",
   "language": "python",
   "name": "python3"
  },
  "language_info": {
   "codemirror_mode": {
    "name": "ipython",
    "version": 3
   },
   "file_extension": ".py",
   "mimetype": "text/x-python",
   "name": "python",
   "nbconvert_exporter": "python",
   "pygments_lexer": "ipython3",
   "version": "3.9.16"
  }
 },
 "nbformat": 4,
 "nbformat_minor": 5
}
