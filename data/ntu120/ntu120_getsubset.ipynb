{
 "cells": [
  {
   "cell_type": "code",
   "execution_count": 10,
   "id": "45e1eb23",
   "metadata": {},
   "outputs": [],
   "source": [
    "import numpy as np\n",
    "import random"
   ]
  },
  {
   "cell_type": "code",
   "execution_count": 5,
   "id": "1bff6425",
   "metadata": {},
   "outputs": [],
   "source": [
    "data_path = './NTU120_CSub.npz'\n",
    "npz_data = np.load(data_path)"
   ]
  },
  {
   "cell_type": "code",
   "execution_count": 7,
   "id": "26854a7e",
   "metadata": {},
   "outputs": [],
   "source": [
    "data = npz_data['x_train']\n",
    "label = np.where(npz_data['y_train'] > 0)[1]"
   ]
  },
  {
   "cell_type": "code",
   "execution_count": 9,
   "id": "e4e3bd22",
   "metadata": {},
   "outputs": [
    {
     "data": {
      "text/plain": [
       "(63026, 300, 150)"
      ]
     },
     "execution_count": 9,
     "metadata": {},
     "output_type": "execute_result"
    }
   ],
   "source": [
    "data.shape"
   ]
  },
  {
   "cell_type": "code",
   "execution_count": 10,
   "id": "cddf01b8",
   "metadata": {},
   "outputs": [
    {
     "data": {
      "text/plain": [
       "(63026,)"
      ]
     },
     "execution_count": 10,
     "metadata": {},
     "output_type": "execute_result"
    }
   ],
   "source": [
    "label.shape"
   ]
  },
  {
   "cell_type": "code",
   "execution_count": 12,
   "id": "cad36b60",
   "metadata": {},
   "outputs": [
    {
     "data": {
      "text/plain": [
       "(50919, 300, 150)"
      ]
     },
     "execution_count": 12,
     "metadata": {},
     "output_type": "execute_result"
    }
   ],
   "source": [
    "npz_data['x_test'].shape"
   ]
  },
  {
   "cell_type": "code",
   "execution_count": 17,
   "id": "aa644157",
   "metadata": {},
   "outputs": [
    {
     "data": {
      "text/plain": [
       "(666,)"
      ]
     },
     "execution_count": 17,
     "metadata": {},
     "output_type": "execute_result"
    }
   ],
   "source": [
    "np.where(label==0)[0].shape"
   ]
  },
  {
   "cell_type": "code",
   "execution_count": 19,
   "id": "deade781",
   "metadata": {},
   "outputs": [
    {
     "data": {
      "text/plain": [
       "(384, 300, 150)"
      ]
     },
     "execution_count": 19,
     "metadata": {},
     "output_type": "execute_result"
    }
   ],
   "source": [
    "data[np.where(label==119)].shape"
   ]
  },
  {
   "cell_type": "code",
   "execution_count": 8,
   "id": "725aad1e",
   "metadata": {},
   "outputs": [],
   "source": [
    "def one_hot_vector(labels):\n",
    "    num_skes = len(labels)\n",
    "    labels_vector = np.zeros((num_skes, 120))\n",
    "    for idx, l in enumerate(labels):\n",
    "        labels_vector[idx, l] = 1\n",
    "\n",
    "    return labels_vector"
   ]
  },
  {
   "cell_type": "code",
   "execution_count": 15,
   "id": "9a91128d",
   "metadata": {},
   "outputs": [
    {
     "name": "stdout",
     "output_type": "stream",
     "text": [
      "x_train\n",
      "y_train\n",
      "x_test\n",
      "y_test\n"
     ]
    }
   ],
   "source": [
    "data_path = './NTU120_CSub.npz'\n",
    "npz_data = np.load(data_path)\n",
    "new_npz_data = {}\n",
    "for phase in ['train', 'test']:\n",
    "    if phase == 'train':\n",
    "        data = npz_data['x_train']\n",
    "        label = np.where(npz_data['y_train'] > 0)[1]\n",
    "    else:\n",
    "        data = npz_data['x_test']\n",
    "        label = np.where(npz_data['y_test'] > 0)[1]\n",
    "    \n",
    "    new_sample = []\n",
    "    new_sample_label = []\n",
    "    act_cls = 120\n",
    "    for act in range(act_cls):\n",
    "        ind_act = np.where(label==act)[0]\n",
    "        act_num = len(ind_act)\n",
    "        sample_num = int(act_num * 0.3)\n",
    "        select_num = random.sample(range(act_num), sample_num)\n",
    "        #if act==0:\n",
    "        new_sample.extend(data[ind_act[select_num]])\n",
    "        new_sample_label.extend([act]*sample_num)\n",
    "    new_npz_data['x_%s'%(phase)] = np.array(new_sample)\n",
    "    print('x_%s'%(phase))\n",
    "    new_npz_data['y_%s'%phase] = one_hot_vector(new_sample_label)\n",
    "    print('y_%s'%phase)\n",
    "np.savez('NTU120_CSub_subset.npz',x_train=new_npz_data['x_train'], y_train=new_npz_data['y_train'], \\\n",
    "        x_test=new_npz_data['x_test'], y_test=new_npz_data['y_test'])"
   ]
  },
  {
   "cell_type": "code",
   "execution_count": 37,
   "id": "7c7a508f",
   "metadata": {},
   "outputs": [
    {
     "data": {
      "text/plain": [
       "(18851, 300, 150)"
      ]
     },
     "execution_count": 37,
     "metadata": {},
     "output_type": "execute_result"
    }
   ],
   "source": [
    "np.array(new_sample).shape"
   ]
  },
  {
   "cell_type": "code",
   "execution_count": 16,
   "id": "cdaa8ce0",
   "metadata": {},
   "outputs": [],
   "source": [
    "import numpy as np\n",
    "x = np.load('NTU120_CSub_subset.npz')"
   ]
  },
  {
   "cell_type": "code",
   "execution_count": 17,
   "id": "fe8e0a05",
   "metadata": {},
   "outputs": [
    {
     "data": {
      "text/plain": [
       "array([[[-7.49975443e-05, -2.18192205e-01,  1.08875990e-01, ...,\n",
       "          1.14720806e-01, -4.03118014e-01, -1.54738426e-02],\n",
       "        [-2.52759457e-03, -2.18542293e-01,  1.08792067e-01, ...,\n",
       "          1.06739208e-01, -4.46633816e-01, -1.79738998e-02],\n",
       "        [-2.38980353e-03, -2.18251854e-01,  1.08078003e-01, ...,\n",
       "          1.31751910e-01, -4.32178617e-01, -6.07395172e-03],\n",
       "        ...,\n",
       "        [ 0.00000000e+00,  0.00000000e+00,  0.00000000e+00, ...,\n",
       "          0.00000000e+00,  0.00000000e+00,  0.00000000e+00],\n",
       "        [ 0.00000000e+00,  0.00000000e+00,  0.00000000e+00, ...,\n",
       "          0.00000000e+00,  0.00000000e+00,  0.00000000e+00],\n",
       "        [ 0.00000000e+00,  0.00000000e+00,  0.00000000e+00, ...,\n",
       "          0.00000000e+00,  0.00000000e+00,  0.00000000e+00]],\n",
       "\n",
       "       [[ 4.30090725e-03, -3.36029679e-01,  1.00404024e-01, ...,\n",
       "         -4.61592972e-02, -3.79064679e-01, -1.23178959e-02],\n",
       "        [-2.20883936e-02, -3.24130774e-01,  1.11380100e-01, ...,\n",
       "         -4.69034910e-02, -3.73321772e-01, -1.50179863e-02],\n",
       "        [-1.69134885e-02, -3.23255360e-01,  1.11391068e-01, ...,\n",
       "         -5.06864935e-02, -3.73251200e-01, -9.47499275e-03],\n",
       "        ...,\n",
       "        [ 0.00000000e+00,  0.00000000e+00,  0.00000000e+00, ...,\n",
       "          0.00000000e+00,  0.00000000e+00,  0.00000000e+00],\n",
       "        [ 0.00000000e+00,  0.00000000e+00,  0.00000000e+00, ...,\n",
       "          0.00000000e+00,  0.00000000e+00,  0.00000000e+00],\n",
       "        [ 0.00000000e+00,  0.00000000e+00,  0.00000000e+00, ...,\n",
       "          0.00000000e+00,  0.00000000e+00,  0.00000000e+00]],\n",
       "\n",
       "       [[-3.42311859e-02, -3.18743646e-01,  2.36260891e-02, ...,\n",
       "         -2.36480892e-01, -4.61000949e-02, -1.81501865e-01],\n",
       "        [-3.48031893e-02, -3.18262666e-01,  2.50380039e-02, ...,\n",
       "         -2.40559369e-01, -4.61251885e-02, -1.89085007e-01],\n",
       "        [-3.48424837e-02, -3.18764567e-01,  2.47049332e-02, ...,\n",
       "         -2.31055379e-01, -4.61227000e-02, -1.98590994e-01],\n",
       "        ...,\n",
       "        [ 0.00000000e+00,  0.00000000e+00,  0.00000000e+00, ...,\n",
       "          0.00000000e+00,  0.00000000e+00,  0.00000000e+00],\n",
       "        [ 0.00000000e+00,  0.00000000e+00,  0.00000000e+00, ...,\n",
       "          0.00000000e+00,  0.00000000e+00,  0.00000000e+00],\n",
       "        [ 0.00000000e+00,  0.00000000e+00,  0.00000000e+00, ...,\n",
       "          0.00000000e+00,  0.00000000e+00,  0.00000000e+00]],\n",
       "\n",
       "       ...,\n",
       "\n",
       "       [[ 1.11401081e-03, -2.66841829e-01,  1.20311022e-01, ...,\n",
       "         -1.07591116e+00, -3.38022858e-01,  3.33770037e-01],\n",
       "        [ 7.82012939e-04, -2.66886353e-01,  1.20247126e-01, ...,\n",
       "         -1.07733607e+00, -3.41644496e-01,  3.29962969e-01],\n",
       "        [ 1.07407570e-03, -2.67655969e-01,  1.19335175e-01, ...,\n",
       "         -1.08080935e+00, -3.40983659e-01,  3.23080063e-01],\n",
       "        ...,\n",
       "        [ 0.00000000e+00,  0.00000000e+00,  0.00000000e+00, ...,\n",
       "          0.00000000e+00,  0.00000000e+00,  0.00000000e+00],\n",
       "        [ 0.00000000e+00,  0.00000000e+00,  0.00000000e+00, ...,\n",
       "          0.00000000e+00,  0.00000000e+00,  0.00000000e+00],\n",
       "        [ 0.00000000e+00,  0.00000000e+00,  0.00000000e+00, ...,\n",
       "          0.00000000e+00,  0.00000000e+00,  0.00000000e+00]],\n",
       "\n",
       "       [[-1.40701085e-02, -3.31068128e-01,  6.35850430e-02, ...,\n",
       "         -7.70688415e-01, -4.54533219e-01, -1.12051010e-01],\n",
       "        [-1.40629113e-02, -3.31165433e-01,  6.28900528e-02, ...,\n",
       "         -7.72469997e-01, -4.57735419e-01, -1.17295027e-01],\n",
       "        [-1.43354982e-02, -3.31378013e-01,  6.32481575e-02, ...,\n",
       "         -7.74364531e-01, -4.47503924e-01, -1.17261887e-01],\n",
       "        ...,\n",
       "        [ 0.00000000e+00,  0.00000000e+00,  0.00000000e+00, ...,\n",
       "          0.00000000e+00,  0.00000000e+00,  0.00000000e+00],\n",
       "        [ 0.00000000e+00,  0.00000000e+00,  0.00000000e+00, ...,\n",
       "          0.00000000e+00,  0.00000000e+00,  0.00000000e+00],\n",
       "        [ 0.00000000e+00,  0.00000000e+00,  0.00000000e+00, ...,\n",
       "          0.00000000e+00,  0.00000000e+00,  0.00000000e+00]],\n",
       "\n",
       "       [[ 1.55799985e-02, -3.31986874e-01, -7.88998604e-03, ...,\n",
       "          6.77606404e-01, -3.56185168e-01,  6.57361984e-01],\n",
       "        [ 1.81031823e-02, -3.31571668e-01, -8.34393501e-03, ...,\n",
       "          6.88204765e-01, -3.57750952e-01,  6.61900997e-01],\n",
       "        [ 2.08125114e-02, -3.35487068e-01, -8.37087631e-03, ...,\n",
       "          7.02926159e-01, -3.43678772e-01,  6.74746037e-01],\n",
       "        ...,\n",
       "        [ 0.00000000e+00,  0.00000000e+00,  0.00000000e+00, ...,\n",
       "          0.00000000e+00,  0.00000000e+00,  0.00000000e+00],\n",
       "        [ 0.00000000e+00,  0.00000000e+00,  0.00000000e+00, ...,\n",
       "          0.00000000e+00,  0.00000000e+00,  0.00000000e+00],\n",
       "        [ 0.00000000e+00,  0.00000000e+00,  0.00000000e+00, ...,\n",
       "          0.00000000e+00,  0.00000000e+00,  0.00000000e+00]]],\n",
       "      dtype=float32)"
      ]
     },
     "execution_count": 17,
     "metadata": {},
     "output_type": "execute_result"
    }
   ],
   "source": [
    "x['x_train']"
   ]
  },
  {
   "cell_type": "code",
   "execution_count": null,
   "id": "34a30726",
   "metadata": {},
   "outputs": [],
   "source": []
  }
 ],
 "metadata": {
  "kernelspec": {
   "display_name": "Python 3 (ipykernel)",
   "language": "python",
   "name": "python3"
  },
  "language_info": {
   "codemirror_mode": {
    "name": "ipython",
    "version": 3
   },
   "file_extension": ".py",
   "mimetype": "text/x-python",
   "name": "python",
   "nbconvert_exporter": "python",
   "pygments_lexer": "ipython3",
   "version": "3.9.16"
  }
 },
 "nbformat": 4,
 "nbformat_minor": 5
}
